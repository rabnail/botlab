{
 "cells": [
  {
   "attachments": {
    "Logo.png": {
     "image/png": "[encoded data removed]"
    }
   },
   "cell_type": "markdown",
   "metadata": {},
   "source": [
    "![Logo.png](attachment:Logo.png)"
   ]
  },
  {
   "cell_type": "markdown",
   "metadata": {},
   "source": [
    "# How To Make A Bot\n",
    "#### A step by step guide - Part 2\n",
    "<p>&nbsp;</p>\n"
   ]
  },
  {
   "cell_type": "markdown",
   "metadata": {},
   "source": [
    "### Introduction "
   ]
  },
  {
   "cell_type": "markdown",
   "metadata": {},
   "source": [
    "This notebook is the second in a series showing what is involved in making and testing a Bot.\n",
    "\n",
    "In the first notebook we saw how to get some historical market data and how we could use this data to generate a signal. We also ran a backtest on the data to estimate how well our bot would have performed.\n",
    "\n",
    "In this notebook we will see how to connect and send an order to the Bots platform."
   ]
  },
  {
   "cell_type": "markdown",
   "metadata": {},
   "source": [
    "### Accessing Bots:  The low-code solution"
   ]
  },
  {
   "cell_type": "markdown",
   "metadata": {},
   "source": [
    "The Bots api is a REST api, so no particular arrangements have to be made in order to connect to it; an internet connection suffices. It also means that any programming language can be used. In this notebook we'll use a python api wrapper class to access the Bots platform; using this class we can send an order to the platform in just a few lines of code.  \n",
    "Before a bot can send messages to the platform, a **key** needs to be generated for the bot; this can be done in the app. The bot **name** and **key** need to be present in every message send to Bots."
   ]
  },
  {
   "cell_type": "markdown",
   "metadata": {},
   "source": [
    "#### Importing the api library"
   ]
  },
  {
   "cell_type": "code",
   "execution_count": null,
   "metadata": {},
   "outputs": [],
   "source": [
    "import botslib.bots_api as ba\n",
    "\n",
    "bots_platform = ba.BEM_API('https://signal.revenyou.io/paper/api/signal/v2/')"
   ]
  },
  {
   "cell_type": "markdown",
   "metadata": {},
   "source": [
    "#### Preparing the order"
   ]
  },
  {
   "cell_type": "markdown",
   "metadata": {},
   "source": [
    "The library contains data classes that contain all the fields that must/can be set for a particular api call. If we want to send an order, we have to create a **OrderParameters** class and set it's fields. "
   ]
  },
  {
   "cell_type": "code",
   "execution_count": null,
   "metadata": {},
   "outputs": [],
   "source": [
    "btc_order = ba.OrderParameters(signalProvider='YourBotName',\n",
    "                               signalProviderKey='YourBotKey',\n",
    "                               baseAsset='BTC',\n",
    "                               quoteAsset='USDT',\n",
    "                               exchange='binance')"
   ]
  },
  {
   "cell_type": "markdown",
   "metadata": {},
   "source": [
    "#### Sending the order"
   ]
  },
  {
   "cell_type": "markdown",
   "metadata": {},
   "source": [
    "Now that we have our 'btc_order' prepared, we can set the side, price and size. The size parameter (qtyPct) is a percentage of the assets allocated to the bot. We also give an id that we can use to keep track of the order.  \n",
    "Once these field have been set, we send the order to the market by calling **placeOrder**"
   ]
  },
  {
   "cell_type": "code",
   "execution_count": null,
   "metadata": {},
   "outputs": [],
   "source": [
    "btc_order.side = 'buy'\n",
    "btc_order.limitPrice = '18500'\n",
    "btc_order.qtyPct = '40'\n",
    "btc_order.extId = 'Order_1'\n",
    "\n",
    "bots_platform.placeOrder(btc_order)\n"
   ]
  },
  {
   "cell_type": "markdown",
   "metadata": {},
   "source": [
    "That's all! Our order has been accepted by the exchange.  "
   ]
  },
  {
   "cell_type": "markdown",
   "metadata": {},
   "source": [
    "#### Tracking the order"
   ]
  },
  {
   "cell_type": "markdown",
   "metadata": {},
   "source": [
    "Now that our order is in the market, we can request what the status is by calling **getOrderState** and get more complete info by calling **getOrderInfo**   \n",
    "The bot will probably call these functions frequently during the lifetime of the order."
   ]
  },
  {
   "cell_type": "code",
   "execution_count": null,
   "metadata": {},
   "outputs": [],
   "source": [
    "state_request = ba.OrderStateRequest(signalProvider='YourBotName',signalProviderKey='YourBotKey')\n",
    "\n",
    "state_request.extId = 'Order_1'\n",
    "bots_platform.getOrderState(state_request)"
   ]
  },
  {
   "cell_type": "code",
   "execution_count": null,
   "metadata": {},
   "outputs": [],
   "source": [
    "info_request = ba.OrderInfoRequest(signalProvider='YourBotName',signalProviderKey='YourBotKey')\n",
    "\n",
    "info_request.extId = 'Order_1'\n",
    "bots_platform.getOrderInfo(info_request)"
   ]
  },
  {
   "cell_type": "markdown",
   "metadata": {},
   "source": [
    "#### Canceling the order"
   ]
  },
  {
   "cell_type": "markdown",
   "metadata": {},
   "source": [
    "If the bot logic decides to pull the order, the (remainder of) the order can be cancelled by calling **cancelOrder**."
   ]
  },
  {
   "cell_type": "code",
   "execution_count": null,
   "metadata": {},
   "outputs": [],
   "source": [
    "cancel_request = ba.CancelOrderParameters(signalProvider='YourBotName',signalProviderKey='YourBotKey')\n",
    "\n",
    "cancel_request.extId = 'Order_1'\n",
    "bots_platform.cancelOrder(cancel_request)\n"
   ]
  },
  {
   "cell_type": "markdown",
   "metadata": {},
   "source": [
    "***\n",
    "Question or comments? Let me know: <philip@revenyou.io>"
   ]
  }
 ],
 "metadata": {
  "kernelspec": {
   "display_name": "Python 3",
   "language": "python",
   "name": "python3"
  },
  "language_info": {
   "codemirror_mode": {
    "name": "ipython",
    "version": 3
   },
   "file_extension": ".py",
   "mimetype": "text/x-python",
   "name": "python",
   "nbconvert_exporter": "python",
   "pygments_lexer": "ipython3",
   "version": "3.8.5"
  }
 },
 "nbformat": 4,
 "nbformat_minor": 4
}
