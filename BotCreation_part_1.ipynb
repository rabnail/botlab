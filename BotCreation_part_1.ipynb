{
 "cells": [
  {
   "attachments": {
    "Logo.png": {
     "image/png": "[encoded data removed]"
    }
   },
   "cell_type": "markdown",
   "metadata": {},
   "source": [
    "![Logo.png](attachment:Logo.png)"
   ]
  },
  {
   "cell_type": "markdown",
   "metadata": {},
   "source": [
    "# How To Make A Bot\n",
    "#### A step by step guide - Part 1\n",
    "<p>&nbsp;</p>\n",
    "\n"
   ]
  },
  {
   "cell_type": "markdown",
   "metadata": {},
   "source": [
    "### Introduction "
   ]
  },
  {
   "cell_type": "markdown",
   "metadata": {},
   "source": [
    "This notebook is the first in a series showing what is involved in making and testing a Bot.\n",
    "\n",
    "We'll begin with getting historical marketdata which we can use in developing and testing bots. We will then see how a bot could process marketdata to generate a simple buy or sell signal.\n",
    "Once we have a bot that generates signals, we can estimate how well it would have performed had it traded on those signals; this is called backtesting.\n"
   ]
  },
  {
   "cell_type": "markdown",
   "metadata": {},
   "source": [
    "### Get historical data"
   ]
  },
  {
   "cell_type": "markdown",
   "metadata": {},
   "source": [
    "In general, Bots work with marketdata represented in 'bars'. A bar records the Open, High, Low and Last price in a fixed time window. For example, a bot that has a low trading frequency could work with day bars, while a bot that sends multiple trading signals during a day could work with hour bars.\n",
    "Historical market data can be requested from the different exchanges like Poloniex and Binance or third-party providers; how this is done is shown in the next notebook. In this notebook we will read 100 days of 30 minute bars for the Btc/Eth pair from a file. Having a fixed dataset during development avoids exceeding the request limit that frequently apply with data providers, and makes it easier to compare the performance of different versions of a bot."
   ]
  },
  {
   "cell_type": "markdown",
   "metadata": {},
   "source": [
    "The Bot Tool library contains functions to facilitate bot development; we will use it to read the data."
   ]
  },
  {
   "cell_type": "markdown",
   "metadata": {},
   "source": [
    "#### Importing the Bot tools:"
   ]
  },
  {
   "cell_type": "code",
   "execution_count": null,
   "metadata": {},
   "outputs": [],
   "source": [
    "import botslib.Bot_tools as bt"
   ]
  },
  {
   "cell_type": "code",
   "execution_count": null,
   "metadata": {},
   "outputs": [],
   "source": [
    "# Use the Bot tools 'read_historical_data' to get the data\n",
    "BTC_ETH_Bars = bt.read_historical_data()\n",
    "# Show the first 5 lines of the data\n",
    "BTC_ETH_Bars.head()"
   ]
  },
  {
   "cell_type": "code",
   "execution_count": null,
   "metadata": {},
   "outputs": [],
   "source": [
    "# Use the Bot tools function 'plot_bars' to take a look at the bars (the last 25 in this case)\n",
    "bt.plot_bars(BTC_ETH_Bars[-25:])"
   ]
  },
  {
   "cell_type": "markdown",
   "metadata": {},
   "source": [
    "### Signal Generation"
   ]
  },
  {
   "cell_type": "markdown",
   "metadata": {},
   "source": [
    "Now that we have some data, we can make a function that will take this data as input, and generate a signal based on it. Such a function would form the basis of a bot.\n",
    "The signal we will generate here is based on the difference between a fast- and a slow moving average of the close price. When the fast moving average crosses the slow moving average in an upward direction, we generate a **'buy'** signal, if it crosses in a downward direction, we generate a **'sell'** signal."
   ]
  },
  {
   "cell_type": "markdown",
   "metadata": {},
   "source": [
    "For the **fast MA** (moving average) we use the 5 last close prices, for the **slow MA** we use the last 15."
   ]
  },
  {
   "cell_type": "code",
   "execution_count": null,
   "metadata": {},
   "outputs": [],
   "source": [
    "close_prices = BTC_ETH_Bars['close'].values\n",
    "# Use the Bot tools function 'calc_sma' to calculate the moving averages\n",
    "fast_ma = bt.calc_sma(close_prices, 5)\n",
    "slow_ma = bt.calc_sma(close_prices , 15)"
   ]
  },
  {
   "cell_type": "code",
   "execution_count": null,
   "metadata": {},
   "outputs": [],
   "source": [
    "# Use the Bot tools function 'plot_lines' to visualize (part off) the series\n",
    "bt.plot_lines([close_prices,fast_ma,slow_ma],['Close', 'Fast', 'Slow'], 1150,1250)"
   ]
  },
  {
   "cell_type": "markdown",
   "metadata": {},
   "source": [
    "Looks like this strategy could generate some valid signals, at least for this section of the data.\n",
    "The function we will write takes as input the available bars, and returns a '***buy***', '***sell***' or '***none***' signal."
   ]
  },
  {
   "cell_type": "code",
   "execution_count": null,
   "metadata": {},
   "outputs": [],
   "source": [
    "def get_signal(bars):\n",
    "\n",
    "    FAST = 5\n",
    "    SLOW = 15\n",
    "\n",
    "    if len(bars) < SLOW:\n",
    "        # If not enough bars available, return None\n",
    "        return 'none'\n",
    "\n",
    "    close_prices = bars['close'].values\n",
    "    fast_ma = bt.calc_sma(close_prices, FAST)\n",
    "    slow_ma = bt.calc_sma(close_prices , SLOW)\n",
    "    \n",
    "    last_fast = fast_ma[-1]\n",
    "    previous_fast = fast_ma[-2]\n",
    "    last_slow = slow_ma[-1]\n",
    "    previous_slow = slow_ma[-2]\n",
    "\n",
    "    if last_fast > last_slow and previous_fast < previous_slow:\n",
    "        return 'buy'\n",
    "    elif last_fast < last_slow and previous_fast > previous_slow:\n",
    "        return 'sell'\n",
    "    else:\n",
    "        return 'none'\n",
    "    \n",
    "# Tip: try some other values for the FAST and SLOW variables and see how it affects performance"
   ]
  },
  {
   "cell_type": "markdown",
   "metadata": {},
   "source": [
    "### Backtesting"
   ]
  },
  {
   "cell_type": "markdown",
   "metadata": {},
   "source": [
    "Now that we have the historical data and we have a signal generator (bot), we can estimate how the bot would have performed. We will use the RevenYOU backtester for this purpose. The backtester will cycle through all bars, and calls our ***'get_signal'*** function on each iteration. It then simulates position changes based on the signal. When it is done, it prints out the final equity, net profit and max drawdown. It also shows the benchmark performance; this is simply the performance that would have been achieved by holding the equity from the start. "
   ]
  },
  {
   "cell_type": "code",
   "execution_count": null,
   "metadata": {},
   "outputs": [],
   "source": [
    "from youengine.youengine import YouEngine\n",
    "\n",
    "youengine = YouEngine()\n",
    "\n",
    "perf = youengine.run(data=BTC_ETH_Bars, bot=get_signal, capital_base=10, pair='BTC_ETH', analyze=False)\n"
   ]
  },
  {
   "cell_type": "markdown",
   "metadata": {},
   "source": [
    "**The bot made a profit!** It is a small profit, but substantially better then not doing anything at all (the benchmark).  \n",
    "This leads us to another interesting experiment: What if we had a monkey that would randomly press a buy, sell or none button? Would it out-perform our moving average strategy? Let's create a monkey bot, and backtest it on the same data."
   ]
  },
  {
   "cell_type": "code",
   "execution_count": null,
   "metadata": {},
   "outputs": [],
   "source": [
    "import random\n",
    "\n",
    "def monkey_signal(bars):\n",
    "    # The monkey thinks it knows best, and makes it's decision without looking at the bars\n",
    "    action = random.randint(0,3)\n",
    "    if action == 0:\n",
    "        return 'none'\n",
    "    if action == 1:\n",
    "        return 'buy'\n",
    "    if action == 2:\n",
    "        return 'sell'\n"
   ]
  },
  {
   "cell_type": "code",
   "execution_count": null,
   "metadata": {},
   "outputs": [],
   "source": [
    "perf = youengine.run(data=BTC_ETH_Bars, bot=monkey_signal, capital_base=10, pair='BTC_ETH', analyze=False)"
   ]
  },
  {
   "cell_type": "markdown",
   "metadata": {},
   "source": [
    "It did not out-perform our moving average strategy, but it performed much better then the benchmark; amazing.\n",
    "Every time the monkey bot is run, it's performance will vary (since it is a random process). We can not exclude the possibility that it will sometimes out-perform a well thought out strategy; chances are very slim though.\n",
    "***"
   ]
  },
  {
   "cell_type": "markdown",
   "metadata": {},
   "source": [
    "Question or comments? Let me know: <philip@revenyou.io>"
   ]
  }
 ],
 "metadata": {
  "kernelspec": {
   "display_name": "Python 3",
   "language": "python",
   "name": "python3"
  },
  "language_info": {
   "codemirror_mode": {
    "name": "ipython",
    "version": 3
   },
   "file_extension": ".py",
   "mimetype": "text/x-python",
   "name": "python",
   "nbconvert_exporter": "python",
   "pygments_lexer": "ipython3",
   "version": "3.8.5"
  }
 },
 "nbformat": 4,
 "nbformat_minor": 4
}
